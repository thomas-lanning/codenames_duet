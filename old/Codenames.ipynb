{
 "cells": [
  {
   "cell_type": "markdown",
   "id": "eceb7e5d",
   "metadata": {},
   "source": [
    "# For later use"
   ]
  },
  {
   "cell_type": "code",
   "execution_count": 1,
   "id": "1ec11c8d",
   "metadata": {},
   "outputs": [],
   "source": [
    "def visualize_grid(grid, title):\n",
    "    \"\"\"Visualizes the grid using matplotlib.\"\"\"\n",
    "    matrix = np.array(grid).reshape(5, 5)\n",
    "    color_map = {\"green\": \"green\", \"black\": \"black\", \"beige\": \"tan\"}\n",
    "    matrix_colors = np.vectorize(color_map.get)(matrix)\n",
    "\n",
    "    fig, ax = plt.subplots()\n",
    "    for i in range(5):\n",
    "        for j in range(5):\n",
    "            ax.add_patch(plt.Rectangle((j, i), 1, 1, facecolor=matrix_colors[i, j], edgecolor='black'))\n",
    "\n",
    "    ax.set_xlim(0, 5)\n",
    "    ax.set_ylim(0, 5)\n",
    "    ax.set_aspect('equal')\n",
    "    ax.set_xticks(np.arange(0.5, 5, 1))\n",
    "    ax.set_yticks(np.arange(0.5, 5, 1))\n",
    "    ax.set_xticklabels([])\n",
    "    ax.set_yticklabels([])\n",
    "    plt.title(title)\n",
    "    plt.show()"
   ]
  },
  {
   "cell_type": "code",
   "execution_count": 3,
   "id": "d3ee73e4",
   "metadata": {},
   "outputs": [],
   "source": [
    "import random\n",
    "import numpy as np\n",
    "import matplotlib.pyplot as plt"
   ]
  },
  {
   "cell_type": "markdown",
   "id": "31006ec3",
   "metadata": {},
   "source": [
    "# Make check_deut_grids func"
   ]
  },
  {
   "cell_type": "code",
   "execution_count": 4,
   "id": "8d6e7107",
   "metadata": {},
   "outputs": [],
   "source": [
    "def assign_duet_colors():\n",
    "    # Create two 5x5 beige grids\n",
    "    grid1 = [\"beige\"] * 25\n",
    "    grid2 = [\"beige\"] * 25\n",
    "    \n",
    "    # Randomly place 9 green tiles in grid1\n",
    "    all_positions = list(range(25))\n",
    "    green_positions = random.sample(all_positions, 9)\n",
    "    for pos in green_positions:\n",
    "        grid1[pos] = \"green\"\n",
    "    \n",
    "    # Randomly select 3 of those green positions and copy to grid2\n",
    "    shared_green_positions = random.sample(green_positions, 3)\n",
    "    for pos in shared_green_positions:\n",
    "        grid2[pos] = \"green\"\n",
    "    \n",
    "    # Get remaining beige positions in grid1\n",
    "    beige_positions_grid1 = [pos for pos in range(25) if grid1[pos] == \"beige\"]\n",
    "    \n",
    "    # Place 6 more green tiles in grid2 by selecting from beige positions in grid1\n",
    "    additional_green_positions = random.sample(beige_positions_grid1, 6)\n",
    "    for pos in additional_green_positions:\n",
    "        grid2[pos] = \"green\"\n",
    "        \n",
    "    # Place first two black tiles in grid1:\n",
    "    # One where grid2 has green (but grid1 has beige)\n",
    "    available_green_in_grid2 = [pos for pos in range(25) \n",
    "                               if grid2[pos] == \"green\" and grid1[pos] == \"beige\"]\n",
    "    black1_pos = random.choice(available_green_in_grid2)\n",
    "    grid1[black1_pos] = \"black\"\n",
    "    \n",
    "    # One where grid2 has beige\n",
    "    available_beige_in_grid2 = [pos for pos in range(25) \n",
    "                               if grid2[pos] == \"beige\" and grid1[pos] == \"beige\"]\n",
    "    black2_pos = random.choice(available_beige_in_grid2)\n",
    "    grid1[black2_pos] = \"black\"\n",
    "    \n",
    "    # Place first two black tiles in grid2:\n",
    "    # One where grid1 has green (but grid2 has beige)\n",
    "    available_green_in_grid1 = [pos for pos in range(25) \n",
    "                               if grid1[pos] == \"green\" and grid2[pos] == \"beige\"]\n",
    "    black3_pos = random.choice(available_green_in_grid1)\n",
    "    grid2[black3_pos] = \"black\"\n",
    "    \n",
    "    # One where grid1 has beige\n",
    "    available_beige_in_grid1 = [pos for pos in range(25) \n",
    "                               if grid1[pos] == \"beige\" and grid2[pos] == \"beige\"]\n",
    "    black4_pos = random.choice(available_beige_in_grid1)\n",
    "    grid2[black4_pos] = \"black\"\n",
    "    \n",
    "    # Find common beige positions and place shared black tile\n",
    "    common_beige = [pos for pos in range(25) \n",
    "                   if grid1[pos] == \"beige\" and grid2[pos] == \"beige\"]\n",
    "    shared_black = random.choice(common_beige)\n",
    "    grid1[shared_black] = \"black\"\n",
    "    grid2[shared_black] = \"black\"\n",
    "    \n",
    "    return grid1, grid2"
   ]
  },
  {
   "cell_type": "code",
   "execution_count": 6,
   "id": "d8f400ac",
   "metadata": {},
   "outputs": [
    {
     "data": {
      "image/png": "[encoded data removed]",
      "text/plain": [
       "<Figure size 432x288 with 1 Axes>"
      ]
     },
     "metadata": {
      "needs_background": "light"
     },
     "output_type": "display_data"
    },
    {
     "data": {
      "image/png": "[encoded data removed]",
      "text/plain": [
       "<Figure size 432x288 with 1 Axes>"
      ]
     },
     "metadata": {
      "needs_background": "light"
     },
     "output_type": "display_data"
    },
    {
     "name": "stdout",
     "output_type": "stream",
     "text": [
      "Grids generated successfully!\n"
     ]
    }
   ],
   "source": [
    "grid1, grid2 = assign_duet_colors()\n",
    "\n",
    "if grid1 and grid2:\n",
    "    visualize_grid(grid1, \"Grid 1\")\n",
    "    visualize_grid(grid2, \"Grid 2\")\n",
    "    print(\"Grids generated successfully!\")\n",
    "    \n",
    "# Test the function\n",
    "grid1, grid2 = assign_duet_colors()"
   ]
  },
  {
   "cell_type": "code",
   "execution_count": 10,
   "id": "7f1f8305",
   "metadata": {},
   "outputs": [
    {
     "name": "stdout",
     "output_type": "stream",
     "text": [
      "\n",
      "Success rate over 10000 trials: 100.0%\n"
     ]
    }
   ],
   "source": [
    "def check_grids(grid1, grid2):\n",
    "    # Check total counts for each grid\n",
    "    for grid_num, grid in enumerate([grid1, grid2], 1):\n",
    "        counts = {\n",
    "            \"green\": grid.count(\"green\"),\n",
    "            \"black\": grid.count(\"black\"),\n",
    "            \"beige\": grid.count(\"beige\")\n",
    "        }\n",
    "        if counts[\"green\"] != 9:\n",
    "            return False, f\"Grid {grid_num} has {counts['green']} green tiles instead of 9\"\n",
    "        if counts[\"black\"] != 3:\n",
    "            return False, f\"Grid {grid_num} has {counts['black']} black tiles instead of 3\"\n",
    "        if counts[\"beige\"] != 13:\n",
    "            return False, f\"Grid {grid_num} has {counts['beige']} beige tiles instead of 13\"\n",
    "    \n",
    "    # Check shared green tiles\n",
    "    shared_greens = sum(1 for i in range(25) if grid1[i] == \"green\" and grid2[i] == \"green\")\n",
    "    if shared_greens != 3:\n",
    "        return False, f\"Found {shared_greens} shared green tiles instead of 3\"\n",
    "    \n",
    "    # Check shared black tiles\n",
    "    shared_blacks = sum(1 for i in range(25) if grid1[i] == \"black\" and grid2[i] == \"black\")\n",
    "    if shared_blacks != 1:\n",
    "        return False, f\"Found {shared_blacks} shared black tiles instead of 1\"\n",
    "    \n",
    "    # Check black-green correspondence\n",
    "    grid1_unique_blacks = [i for i in range(25) if grid1[i] == \"black\" and grid2[i] != \"black\"]\n",
    "    grid2_unique_blacks = [i for i in range(25) if grid2[i] == \"black\" and grid1[i] != \"black\"]\n",
    "    \n",
    "    # Check each unique black in grid1 corresponds to either green or beige in grid2\n",
    "    for pos in grid1_unique_blacks:\n",
    "        if grid2[pos] not in [\"green\", \"beige\"]:\n",
    "            return False, f\"Black tile in grid1 at position {pos} doesn't correspond to green or beige in grid2\"\n",
    "    \n",
    "    # Check each unique black in grid2 corresponds to either green or beige in grid1\n",
    "    for pos in grid2_unique_blacks:\n",
    "        if grid1[pos] not in [\"green\", \"beige\"]:\n",
    "            return False, f\"Black tile in grid2 at position {pos} doesn't correspond to green or beige in grid1\"\n",
    "    \n",
    "    # Check that at least one unique black corresponds to green in the other grid\n",
    "    grid1_black_to_green = any(grid2[pos] == \"green\" for pos in grid1_unique_blacks)\n",
    "    grid2_black_to_green = any(grid1[pos] == \"green\" for pos in grid2_unique_blacks)\n",
    "    \n",
    "    if not grid1_black_to_green:\n",
    "        return False, \"No black tile in grid1 corresponds to a green tile in grid2\"\n",
    "    if not grid2_black_to_green:\n",
    "        return False, \"No black tile in grid2 corresponds to a green tile in grid1\"\n",
    "    \n",
    "    return True, \"All rules satisfied\"\n",
    "\n",
    "# Test multiple trials\n",
    "num_trials = 10000\n",
    "results = []\n",
    "for i in range(num_trials):\n",
    "    grid1, grid2 = assign_duet_colors()\n",
    "    is_valid, message = check_grids(grid1, grid2)\n",
    "    results.append(is_valid)\n",
    "    if not is_valid:\n",
    "        print(f\"Trial {i+1} failed: {message}\")\n",
    "\n",
    "success_rate = sum(results) / num_trials * 100\n",
    "print(f\"\\nSuccess rate over {num_trials} trials: {success_rate}%\")"
   ]
  },
  {
   "cell_type": "code",
   "execution_count": 16,
   "id": "0f50f3dd",
   "metadata": {},
   "outputs": [
    {
     "name": "stderr",
     "output_type": "stream",
     "text": [
      "2024-12-26 15:01:25.643 osascript[15032:10825990] CFURLGetFSRef was passed a URL which has no scheme (the URL will not work with other CFURL routines)\n"
     ]
    },
    {
     "name": "stdout",
     "output_type": "stream",
     "text": [
      "Image will be sent to +447379401250\n"
     ]
    },
    {
     "name": "stderr",
     "output_type": "stream",
     "text": [
      "2024-12-26 15:02:12.566 osascript[15076:10826723] CFURLGetFSRef was passed a URL which has no scheme (the URL will not work with other CFURL routines)\n"
     ]
    },
    {
     "name": "stdout",
     "output_type": "stream",
     "text": [
      "Image will be sent to +34648552964\n"
     ]
    }
   ],
   "source": [
    "import pywhatkit\n",
    "import time\n",
    "from PIL import Image\n",
    "import os\n",
    "import matplotlib.pyplot as plt\n",
    "import numpy as np\n",
    "\n",
    "def save_grid_as_image(grid, title, flip=False):\n",
    "    \"\"\"Saves the grid visualization as a JPEG image file\"\"\"\n",
    "    if flip:\n",
    "        matrix = np.array(grid).reshape(5, 5)[::-1]  # Flip rows\n",
    "    else:\n",
    "        matrix = np.array(grid).reshape(5, 5)\n",
    "    \n",
    "    color_map = {\"green\": \"green\", \"black\": \"black\", \"beige\": \"tan\"}\n",
    "    matrix_colors = np.vectorize(color_map.get)(matrix)\n",
    "\n",
    "    fig, ax = plt.subplots()\n",
    "    for i in range(5):\n",
    "        for j in range(5):\n",
    "            ax.add_patch(plt.Rectangle((j, i), 1, 1, facecolor=matrix_colors[i, j], edgecolor='black'))\n",
    "\n",
    "    ax.set_xlim(0, 5)\n",
    "    ax.set_ylim(0, 5)\n",
    "    ax.set_aspect('equal')\n",
    "    ax.set_xticks(np.arange(0.5, 5, 1))\n",
    "    ax.set_yticks(np.arange(0.5, 5, 1))\n",
    "    ax.set_xticklabels([])\n",
    "    ax.set_yticklabels([])\n",
    "    plt.title(title)\n",
    "    \n",
    "    # Save as JPEG instead of PNG\n",
    "    plt.savefig(f\"{title}.jpg\")\n",
    "    plt.close()\n",
    "\n",
    "def send_whatsapp_image(phone_number, image_path, message=\"\"):\n",
    "    try:\n",
    "        # Send the image\n",
    "        pywhatkit.sendwhats_image(\n",
    "            receiver=phone_number,\n",
    "            img_path=image_path,\n",
    "            caption=message,\n",
    "            wait_time=15\n",
    "        )\n",
    "        print(f\"Image will be sent to {phone_number}\")\n",
    "        \n",
    "    except Exception as e:\n",
    "        print(f\"An error occurred: {str(e)}\")\n",
    "\n",
    "def main():\n",
    "    # Generate grids\n",
    "    grid1, grid2 = assign_duet_colors()\n",
    "    \n",
    "    # Save images\n",
    "    save_grid_as_image(grid1, \"Thomas Grid\")\n",
    "    save_grid_as_image(grid2, \"Elena's grid\", flip=True)\n",
    "    \n",
    "     # Phone numbers in international format\n",
    "    your_number = \"+447379401250\"  # Your number\n",
    "    gf_number = \"+34648552964\"    # Your girlfriend's number\n",
    "    \n",
    "    \n",
    "    # Send images\n",
    "    send_whatsapp_image(your_number, \"grid1.jpg\", \"Here's your grid!\")  # Changed extension to .jpg\n",
    "    time.sleep(30)  # Wait between sends\n",
    "    send_whatsapp_image(gf_number, \"grid2.jpg\", \"Here's your grid!\")    # Changed extension to .jpg\n",
    "    \n",
    "    # Clean up image files\n",
    "    os.remove(\"grid1.jpg\")  # Changed extension to .jpg\n",
    "    os.remove(\"grid2.jpg\")  # Changed extension to .jpg\n",
    "\n",
    "if __name__ == \"__main__\":\n",
    "    main()"
   ]
  },
  {
   "cell_type": "code",
   "execution_count": null,
   "id": "72d8868e",
   "metadata": {},
   "outputs": [],
   "source": []
  }
 ],
 "metadata": {
  "kernelspec": {
   "display_name": "Python 3 (ipykernel)",
   "language": "python",
   "name": "python3"
  },
  "language_info": {
   "codemirror_mode": {
    "name": "ipython",
    "version": 3
   },
   "file_extension": ".py",
   "mimetype": "text/x-python",
   "name": "python",
   "nbconvert_exporter": "python",
   "pygments_lexer": "ipython3",
   "version": "3.9.7"
  }
 },
 "nbformat": 4,
 "nbformat_minor": 5
}
